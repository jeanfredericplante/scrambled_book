{
  "nbformat": 4,
  "nbformat_minor": 0,
  "metadata": {
    "colab": {
      "name": "scramble book generation.ipynb",
      "version": "0.3.2",
      "provenance": [],
      "collapsed_sections": []
    },
    "kernelspec": {
      "name": "python3",
      "display_name": "Python 3"
    }
  },
  "cells": [
    {
      "cell_type": "code",
      "metadata": {
        "id": "baZ59_9_Ky5y",
        "colab_type": "code",
        "colab": {}
      },
      "source": [
        "sentences = [\"the cat is near the dog\", \"the man is rowing\", \"the boy cleans the dishes\"]\n"
      ],
      "execution_count": 0,
      "outputs": []
    },
    {
      "cell_type": "code",
      "metadata": {
        "id": "_eZsIBCeNRVX",
        "colab_type": "code",
        "colab": {}
      },
      "source": [
        "import re, random\n",
        "def shuffle_sentence(userSentence=\"the frog is on the fence\"):\n",
        "    print(f\"processing: '{userSentence}'\")\n",
        "    wordList = re.sub(\"[^\\w]\", \" \",  userSentence).split()\n",
        "#     for i in range(10):\n",
        "#         shuffledSentence = [''.join(random.sample(w,len(w))) for w in wordList]\n",
        "#         shuffledSentence = ' '.join(shuffledSentence)\n",
        "#         print (shuffledSentence)\n",
        "    shuffledSentence = [''.join(random.sample(w,len(w))) for w in wordList]\n",
        "    return ' '.join(shuffledSentence)"
      ],
      "execution_count": 0,
      "outputs": []
    },
    {
      "cell_type": "code",
      "metadata": {
        "id": "2Ib1nKklNWeL",
        "colab_type": "code",
        "colab": {
          "base_uri": "https://localhost:8080/",
          "height": 211
        },
        "outputId": "3fa0d700-0ebd-4628-e142-16ac96293a62"
      },
      "source": [
        "!pip install --upgrade google-api-python-client"
      ],
      "execution_count": 2,
      "outputs": [
        {
          "output_type": "stream",
          "text": [
            "Requirement already up-to-date: google-api-python-client in /usr/local/lib/python3.6/dist-packages (1.7.11)\n",
            "Requirement already satisfied, skipping upgrade: uritemplate<4dev,>=3.0.0 in /usr/local/lib/python3.6/dist-packages (from google-api-python-client) (3.0.0)\n",
            "Requirement already satisfied, skipping upgrade: google-auth-httplib2>=0.0.3 in /usr/local/lib/python3.6/dist-packages (from google-api-python-client) (0.0.3)\n",
            "Requirement already satisfied, skipping upgrade: google-auth>=1.4.1 in /usr/local/lib/python3.6/dist-packages (from google-api-python-client) (1.4.2)\n",
            "Requirement already satisfied, skipping upgrade: httplib2<1dev,>=0.9.2 in /usr/local/lib/python3.6/dist-packages (from google-api-python-client) (0.11.3)\n",
            "Requirement already satisfied, skipping upgrade: six<2dev,>=1.6.1 in /usr/local/lib/python3.6/dist-packages (from google-api-python-client) (1.12.0)\n",
            "Requirement already satisfied, skipping upgrade: rsa>=3.1.4 in /usr/local/lib/python3.6/dist-packages (from google-auth>=1.4.1->google-api-python-client) (4.0)\n",
            "Requirement already satisfied, skipping upgrade: pyasn1-modules>=0.2.1 in /usr/local/lib/python3.6/dist-packages (from google-auth>=1.4.1->google-api-python-client) (0.2.6)\n",
            "Requirement already satisfied, skipping upgrade: cachetools>=2.0.0 in /usr/local/lib/python3.6/dist-packages (from google-auth>=1.4.1->google-api-python-client) (3.1.1)\n",
            "Requirement already satisfied, skipping upgrade: pyasn1>=0.1.3 in /usr/local/lib/python3.6/dist-packages (from rsa>=3.1.4->google-auth>=1.4.1->google-api-python-client) (0.4.6)\n"
          ],
          "name": "stdout"
        }
      ]
    },
    {
      "cell_type": "code",
      "metadata": {
        "id": "OLlk8PzFNZPt",
        "colab_type": "code",
        "colab": {}
      },
      "source": [
        "import random\n",
        "import urllib.request\n",
        "from apiclient.discovery import build\n",
        "\n",
        "def get_image(userSentence=\"the frog is on the fence\", nres=4):\n",
        "    service = build(\"customsearch\", \"v1\",\n",
        "                   developerKey=\"your_google_dev_key\")\n",
        "\n",
        "    res = service.cse().list(\n",
        "        q=userSentence,\n",
        "        cx='you_google_cx',\n",
        "        searchType='image',\n",
        "        num=nres,\n",
        "        safe= 'off'\n",
        "    ).execute()\n",
        "\n",
        "    if not 'items' in res:\n",
        "        return nil\n",
        "    else:\n",
        "        resn = random.choice(res['items'])\n",
        "        flink = resn['link']\n",
        "        fname = flink.split('/')[-1]\n",
        "        urllib.request.urlretrieve(flink, fname)\n",
        "        return fname\n",
        "   "
      ],
      "execution_count": 0,
      "outputs": []
    },
    {
      "cell_type": "code",
      "metadata": {
        "id": "4WfxgLEZCSXG",
        "colab_type": "code",
        "colab": {}
      },
      "source": [
        "from fpdf import FPDF\n",
        "\n",
        "class PDF(FPDF):\n",
        "  def generate_lines(self, x=20,y=20,length=180):\n",
        "    interval_between_lines = 10\n",
        "    self.set_draw_color(93,145,155)\n",
        "    line_y = y \n",
        "    self.line(x1=x, y1=line_y, x2=x+length, y2=line_y)\n",
        "    line_y = y - interval_between_lines\n",
        "    self.dashed_line(x1=x, y1=line_y, x2=x+length, y2=line_y, dash_length=1, space_length=1)\n",
        "    line_y = y - 2*interval_between_lines\n",
        "    self.line(x1=x, y1=line_y, x2=x+length, y2=line_y)\n",
        "    line_y = y - 3*interval_between_lines\n",
        "    self.dashed_line(x1=x, y1=line_y, x2=x+length, y2=line_y, dash_length=1, space_length=1)\n",
        "    line_y = y - 4*interval_between_lines\n",
        "    self.line(x1=x, y1=line_y, x2=x+length, y2=line_y)"
      ],
      "execution_count": 0,
      "outputs": []
    },
    {
      "cell_type": "code",
      "metadata": {
        "id": "cv9sJA6ODVEi",
        "colab_type": "code",
        "colab": {
          "base_uri": "https://localhost:8080/",
          "height": 35
        },
        "outputId": "deb9c896-72c6-44d0-bdc2-0de3756fd6fc"
      },
      "source": [
        "sentences[0]"
      ],
      "execution_count": 72,
      "outputs": [
        {
          "output_type": "execute_result",
          "data": {
            "text/plain": [
              "'the cat is near the dog'"
            ]
          },
          "metadata": {
            "tags": []
          },
          "execution_count": 72
        }
      ]
    },
    {
      "cell_type": "code",
      "metadata": {
        "id": "OiXdCPrzNg_a",
        "colab_type": "code",
        "colab": {
          "base_uri": "https://localhost:8080/",
          "height": 191
        },
        "outputId": "b4c41949-f514-42b3-aa99-d5fc8da280ec"
      },
      "source": [
        "\n",
        "\n",
        "\n",
        "section_delta = 80\n",
        "\n",
        "pdf = PDF(format='letter')\n",
        "pdf.add_page()\n",
        "pdf.set_font(\"Arial\", size=25)\n",
        "\n",
        "for i in range(3):\n",
        "  sentence = sentences[i]\n",
        "  shuffled_sentence = shuffle_sentence(sentence)\n",
        "  print(shuffled_sentence)\n",
        "  im_name = get_image(sentence)\n",
        "  print(im_name)\n",
        "  pdf.image(im_name, x=20, y=20+section_delta*i, w=50, h=30)\n",
        "  pdf.set_xy(x=70+10, y=20+section_delta*i)\n",
        "  pdf.multi_cell(120, 10, txt=shuffled_sentence, align=\"L\", border=0)\n",
        "  pdf.generate_lines(y=95+section_delta*i)\n",
        "\n",
        "pdf.output(\"tutorial.pdf\")"
      ],
      "execution_count": 95,
      "outputs": [
        {
          "output_type": "stream",
          "text": [
            "processing: 'the cat is near the dog'\n",
            "hte tca si naer eht gdo\n",
            "cute-cat-and-dog-1.jpg\n",
            "processing: 'the man is rowing'\n",
            "het amn is onwigr\n",
            "a-man-rowing-a-single-scull-rowboat-A9J4A7.jpg\n",
            "processing: 'the boy cleans the dishes'\n",
            "teh oby lasnec het ideshs\n",
            "boy-washing-dishes_yfymgv.jpeg\n"
          ],
          "name": "stdout"
        },
        {
          "output_type": "execute_result",
          "data": {
            "text/plain": [
              "''"
            ]
          },
          "metadata": {
            "tags": []
          },
          "execution_count": 95
        }
      ]
    },
    {
      "cell_type": "markdown",
      "metadata": {
        "id": "0AmEFimsN6CS",
        "colab_type": "text"
      },
      "source": [
        "[PDF library](http://www.blog.pythonlibrary.org/2012/07/10/an-intro-to-pyfpdf-a-simple-python-pdf-generation-library/)"
      ]
    },
    {
      "cell_type": "code",
      "metadata": {
        "id": "bqBigcg_Nz3w",
        "colab_type": "code",
        "colab": {}
      },
      "source": [
        ""
      ],
      "execution_count": 0,
      "outputs": []
    }
  ]
}
